{
 "cells": [
  {
   "cell_type": "markdown",
   "metadata": {},
   "source": [
    "# Tutorial 1: State Transfer\n",
    "This tutorial will use the example of qubit state transfer to cover the basics of this Quantum Optimal Control package. We will be using the GRadient Ascent Pulse Engineering (GRAPE) algorithm to effect state transfer from the ground state to the excited state. \n",
    "$\\newcommand{\\bracket}[2]{\\left\\langle{#1}|{#2}\\right\\rangle}$\n",
    "\n",
    "For an introduction to Quantum Optimal Control: https://qutip.org/docs/latest/guide/guide-control.html"
   ]
  },
  {
   "cell_type": "code",
   "execution_count": 1,
   "metadata": {},
   "outputs": [],
   "source": [
    "import numpy as np\n",
    "from matplotlib import pyplot as plt\n",
    "from numpy.fft import rfft, rfftfreq"
   ]
  },
  {
   "cell_type": "code",
   "execution_count": 2,
   "metadata": {},
   "outputs": [],
   "source": [
    "from qoc import grape_schroedinger_discrete"
   ]
  },
  {
   "cell_type": "markdown",
   "metadata": {},
   "source": [
    "## Optimization Set-up"
   ]
  },
  {
   "cell_type": "code",
   "execution_count": 3,
   "metadata": {},
   "outputs": [],
   "source": [
    "total_time = 10  # pulse duration in ns\n",
    "total_time_steps = 300  # number of discretized time steps\n",
    "times = np.linspace(0, total_time, total_time_steps)"
   ]
  },
  {
   "cell_type": "code",
   "execution_count": 4,
   "metadata": {},
   "outputs": [],
   "source": [
    "initial_state = np.array([[1, 0]])  # |0>\n",
    "target_state = np.array([[0, 1]])  # |1>"
   ]
  },
  {
   "cell_type": "markdown",
   "metadata": {},
   "source": [
    "### System Hamiltonian\n",
    "For simplicity and ease of computation, we will work with natural units where $\\hbar = 1$.\n",
    "\n",
    " $$\\Large H =  \\frac{1}{2}\\omega_q\\sigma_z+  u(t)\\sigma_x$$"
   ]
  },
  {
   "cell_type": "code",
   "execution_count": 15,
   "metadata": {},
   "outputs": [],
   "source": [
    "wq = 0.5 * 2 * np.pi  # qubit angular frequency in units of 1/ns\n",
    "\n",
    "H0 = 0.5 * wq * np.array([[1, 0], [0, -1]])\n",
    "h_controls = [np.array([[0, 1], [1, 0]])]  # list of control operators "
   ]
  },
  {
   "cell_type": "markdown",
   "metadata": {},
   "source": [
    "### Cost Function"
   ]
  },
  {
   "cell_type": "code",
   "execution_count": 16,
   "metadata": {},
   "outputs": [],
   "source": [
    "from qoc.standard import TargetStateInfidelity"
   ]
  },
  {
   "cell_type": "markdown",
   "metadata": {},
   "source": [
    "We difine the cost function to be minimized by the control pulse. The form of the cost function will influence the location of the minima and thus the shape of the optimized pulse. Since it is our goal to achieve a high fidelity state, the most simple cost function contains only the TargetStateInfidelity cost contribution, which depends on the fidelity($\\mathcal{F}$) of the evolved state.\n",
    "$$\\large C = 1-\\mathcal{F}$$\n",
    "$$\\large\\mathcal{F} = \\big|\\bracket{\\psi_{target}}{\\psi_{actual}}\\big|^2 $$"
   ]
  },
  {
   "cell_type": "code",
   "execution_count": 17,
   "metadata": {},
   "outputs": [],
   "source": [
    "costs = [TargetStateInfidelity(target_state)]"
   ]
  },
  {
   "cell_type": "markdown",
   "metadata": {},
   "source": [
    "### Initial Pulse\n",
    "\n",
    "We must feed the optimizer an initial guess pulse to be optimized. The optimized pulse tends to maintain features of the guess pulse. For instance, if the guess is of high frequency (ex. random list of +1 and -1), the optimized pulse will also have high frequency components.\n",
    "\n",
    "Generating high frequency signals in the lab can be challenging, so we will chose a flat pulse for our initial guess. To not show bais towards positive or negative amplitudes, it would be logical to have the pulse lie flat at 0. However, this pulse is a minimum of the cost function, so we instead choose a flat pulse which deviates slighly from 0: "
   ]
  },
  {
   "cell_type": "code",
   "execution_count": 18,
   "metadata": {},
   "outputs": [],
   "source": [
    "initial_pulse1 = [0.0001 * np.full(total_time_steps, 1)]  # the initial guess pulse to be optimized"
   ]
  },
  {
   "cell_type": "markdown",
   "metadata": {},
   "source": [
    "### Run GRAPE Optimizer"
   ]
  },
  {
   "cell_type": "code",
   "execution_count": 19,
   "metadata": {
    "scrolled": true
   },
   "outputs": [
    {
     "name": "stdout",
     "output_type": "stream",
     "text": [
      "iter   |   total error  |       cost0      |   grads_l2  \n",
      "=================================================================\n",
      "  0    | 1.00000000e+00 |  1.00000000e+00  |  1.65381195e-12  \n",
      "  10   | 9.98236653e-01 |  9.98236653e-01  |  3.42405486e-02  \n",
      "  20   | 9.88063563e-01 |  9.88063563e-01  |  8.86297841e-02  \n",
      "  30   | 9.65359588e-01 |  9.65359588e-01  |  1.49236286e-01  \n",
      "  40   | 9.27631069e-01 |  9.27631069e-01  |  2.11437616e-01  \n",
      "  50   | 8.74096424e-01 |  8.74096424e-01  |  2.70699605e-01  \n",
      "  60   | 8.05792002e-01 |  8.05792002e-01  |  3.22770104e-01  \n",
      "  70   | 7.25381259e-01 |  7.25381259e-01  |  3.64119438e-01  \n",
      "  80   | 6.36741839e-01 |  6.36741839e-01  |  3.92301155e-01  \n",
      "  90   | 5.44418326e-01 |  5.44418326e-01  |  4.06163659e-01  \n",
      " 100   | 4.53027771e-01 |  4.53027771e-01  |  4.05886553e-01  \n",
      " 110   | 3.66707695e-01 |  3.66707695e-01  |  3.92841059e-01  \n",
      " 120   | 2.88689643e-01 |  2.88689643e-01  |  3.69303467e-01  \n",
      " 130   | 2.21057182e-01 |  2.21057182e-01  |  3.38078361e-01  \n",
      " 140   | 1.64707772e-01 |  1.64707772e-01  |  3.02104168e-01  \n",
      " 150   | 1.19493790e-01 |  1.19493790e-01  |  2.64110964e-01  \n",
      " 160   | 8.44832792e-02 |  8.44832792e-02  |  2.26379873e-01  \n",
      " 170   | 5.82662647e-02 |  5.82662647e-02  |  1.90622561e-01  \n",
      " 180   | 3.92401928e-02 |  3.92401928e-02  |  1.57969394e-01  \n",
      " 190   | 2.58313194e-02 |  2.58313194e-02  |  1.29035301e-01  \n",
      " 200   | 1.66363634e-02 |  1.66363634e-02  |  1.04026584e-01  \n",
      " 210   | 1.04906717e-02 |  1.04906717e-02  |  8.28573253e-02  \n",
      " 220   | 6.48109675e-03 |  6.48109675e-03  |  6.52547164e-02  \n",
      " 230   | 3.92452331e-03 |  3.92452331e-03  |  5.08434175e-02  \n",
      " 240   | 2.32990011e-03 |  2.32990011e-03  |  3.92070112e-02  \n",
      " 250   | 1.35627559e-03 |  1.35627559e-03  |  2.99291098e-02  \n",
      " 260   | 7.74108900e-04 |  7.74108900e-04  |  2.26184551e-02  \n",
      " 270   | 4.33135426e-04 |  4.33135426e-04  |  1.69224389e-02  \n",
      " 280   | 2.37510646e-04 |  2.37510646e-04  |  1.25327903e-02  \n",
      " 290   | 1.27585225e-04 |  1.27585225e-04  |  9.18627325e-03  \n",
      " 300   | 6.71038954e-05 |  6.71038954e-05  |  6.66241018e-03  \n",
      " 310   | 3.45341579e-05 |  3.45341579e-05  |  4.77959043e-03  \n",
      " 320   | 1.73770660e-05 |  1.73770660e-05  |  3.39044822e-03  \n",
      " 330   | 8.54174828e-06 |  8.54174828e-06  |  2.37706659e-03  \n",
      " 340   | 4.09743063e-06 |  4.09743063e-06  |  1.64634616e-03  \n",
      " 350   | 1.91578431e-06 |  1.91578431e-06  |  1.12573386e-03  \n",
      " 360   | 8.71836757e-07 |  8.71836757e-07  |  7.59412396e-04  \n",
      " 370   | 3.85519396e-07 |  3.85519396e-07  |  5.04989080e-04  \n",
      " 380   | 1.65311653e-07 |  1.65311653e-07  |  3.30682025e-04  \n",
      " 390   | 6.85711589e-08 |  6.85711589e-08  |  2.12975995e-04  \n",
      " 400   | 2.74310850e-08 |  2.74310850e-08  |  1.34704804e-04  \n",
      " 410   | 1.05425075e-08 |  1.05425075e-08  |  8.35094241e-05  \n",
      " 420   | 3.87336563e-09 |  3.87336563e-09  |  5.06185072e-05  \n",
      " 430   | 1.35142675e-09 |  1.35142675e-09  |  2.98993564e-05  \n",
      " 440   | 4.43644677e-10 |  4.43644677e-10  |  1.71310314e-05  \n",
      " 450   | 1.35191414e-10 |  1.35191414e-10  |  9.45639596e-06  \n",
      " 460   | 3.74251741e-11 |  3.74251741e-11  |  4.97563981e-06  \n",
      " 470   | 9.07141029e-12 |  9.07141029e-12  |  2.44964737e-06  \n",
      " 480   | 1.78124182e-12 |  1.78124182e-12  |  1.08714664e-06  \n",
      " 490   | 2.35145237e-13 |  2.35145237e-13  |  3.94627646e-07  \n",
      " 500   | 1.28785871e-14 |  1.28785871e-14  |  7.24480830e-08  \n"
     ]
    }
   ],
   "source": [
    "\n",
    "result = grape_schroedinger_discrete(\n",
    "    H0, h_controls, total_time_steps,\n",
    "    costs, total_time,\n",
    "    initial_state,\n",
    "    initial_controls=initial_pulse1,)"
   ]
  },
  {
   "cell_type": "code",
   "execution_count": 20,
   "metadata": {},
   "outputs": [
    {
     "name": "stdout",
     "output_type": "stream",
     "text": [
      "-5.551115123125783e-15\n"
     ]
    }
   ],
   "source": [
    "optimized_pulse1, infidelity1 = result.best_controls, result.best_error\n",
    "print(infidelity1)"
   ]
  },
  {
   "cell_type": "markdown",
   "metadata": {},
   "source": [
    "Do not be alarmed by the negative infidelity. This is an issue of machine precision and we can take the infidelity to be zero."
   ]
  },
  {
   "cell_type": "markdown",
   "metadata": {},
   "source": [
    "### Optimized Result"
   ]
  },
  {
   "cell_type": "code",
   "execution_count": 21,
   "metadata": {},
   "outputs": [],
   "source": [
    "def plot_pulses(times, guess_pulse, optimized_pulse):\n",
    "    plt.xlabel(\"time (ns)\")\n",
    "    plt.ylabel(\"u(t)\")\n",
    "    plt.step(times, optimized_pulse, label=\"optimized\", color=\"r\")\n",
    "    plt.step(times, guess_pulse, label=\"guess\", color=\"b\")\n",
    "    plt.legend()\n",
    "    plt.show()"
   ]
  },
  {
   "cell_type": "code",
   "execution_count": 22,
   "metadata": {},
   "outputs": [
    {
     "data": {
      "image/png": "[encoded data removed]",
      "text/plain": [
       "<Figure size 432x288 with 1 Axes>"
      ]
     },
     "metadata": {
      "needs_background": "light"
     },
     "output_type": "display_data"
    }
   ],
   "source": [
    "plot_pulses(times, initial_pulse1[0], optimized_pulse1[0])"
   ]
  },
  {
   "cell_type": "markdown",
   "metadata": {},
   "source": [
    "# Smoothing the Control Pulse\n",
    "This pulse above has problematic \"kinks\" around the maxima. These kinks can be removed with a more informed choice of cost function. We will explore two cost contributions to try to smooth this pulse. \n",
    "\n",
    "### Control Variation\n",
    "This cost contribution will penalize high variance between adjacent control amplitudes."
   ]
  },
  {
   "cell_type": "code",
   "execution_count": 23,
   "metadata": {},
   "outputs": [],
   "source": [
    "from qoc.standard import ControlVariation"
   ]
  },
  {
   "cell_type": "markdown",
   "metadata": {},
   "source": [
    " $$\\large C = 1-\\mathcal{F} + \\alpha C_{2}$$\n",
    "$$\\Large C_{2} = \\sum\\limits_{j}|u_j-u_{j+1}|^2 $$\n"
   ]
  },
  {
   "cell_type": "markdown",
   "metadata": {},
   "source": [
    "We have the freedom to choose the cost multiplier($\\alpha$).The buisness of setting hyperparameters can be tedious, especially when there are several cost contributions to balance. "
   ]
  },
  {
   "cell_type": "code",
   "execution_count": 24,
   "metadata": {},
   "outputs": [],
   "source": [
    "initial_pulse2 = optimized_pulse1"
   ]
  },
  {
   "cell_type": "markdown",
   "metadata": {},
   "source": [
    "Instead of starting from a flat pulse like before, we can choose to start from the high fidelity, optimized pulse we just generated. The minimum of this new cost function should be \"nearby\" the minimum of the old cost function we found (or atleast closer than the flat pulse)."
   ]
  },
  {
   "cell_type": "code",
   "execution_count": 25,
   "metadata": {
    "scrolled": true
   },
   "outputs": [
    {
     "name": "stdout",
     "output_type": "stream",
     "text": [
      "iter   |   total error  |       cost0      |       cost1      |   grads_l2  \n",
      "==================================================================================\n",
      "  0    | 1.00000000e+00 |  1.00000000e+00  |  2.00000000e-09  |  4.03621897e-05  \n",
      "  10   | 9.96826371e-01 |  9.96751088e-01  |  7.52825454e-05  |  4.63298014e-02  \n",
      "  20   | 9.84917484e-01 |  9.84514247e-01  |  4.03236965e-04  |  1.00572698e-01  \n",
      "  30   | 9.61287889e-01 |  9.60209491e-01  |  1.07839793e-03  |  1.59234248e-01  \n",
      "  40   | 9.23953164e-01 |  9.21766036e-01  |  2.18712812e-03  |  2.18792725e-01  \n",
      "  50   | 8.72376413e-01 |  8.68626448e-01  |  3.74996548e-03  |  2.75249306e-01  \n",
      "  60   | 8.07597258e-01 |  8.01828463e-01  |  5.76879434e-03  |  3.24827121e-01  \n",
      "  70   | 7.32075679e-01 |  7.23891795e-01  |  8.18388436e-03  |  3.64342194e-01  \n",
      "  80   | 6.49325422e-01 |  6.38415946e-01  |  1.09094756e-02  |  3.91610684e-01  \n",
      "  90   | 5.63425186e-01 |  5.49605283e-01  |  1.38199031e-02  |  4.05620564e-01  \n",
      " 100   | 4.78487806e-01 |  4.61715303e-01  |  1.67725030e-02  |  4.06574197e-01  \n",
      " 110   | 3.98171074e-01 |  3.78555838e-01  |  1.96152363e-02  |  3.95750644e-01  \n",
      " 120   | 3.25306978e-01 |  3.03096616e-01  |  2.22103628e-02  |  3.75241085e-01  \n",
      " 130   | 2.61702491e-01 |  2.37247994e-01  |  2.44544970e-02  |  3.47601821e-01  \n",
      " 140   | 2.08125387e-01 |  1.81829716e-01  |  2.62956711e-02  |  3.15496571e-01  \n",
      " 150   | 1.64445005e-01 |  1.36712400e-01  |  2.77326049e-02  |  2.81392739e-01  \n",
      " 160   | 1.29867659e-01 |  1.01067272e-01  |  2.88003868e-02  |  2.47353817e-01  \n",
      " 170   | 1.03199789e-01 |  7.36493190e-02  |  2.95504697e-02  |  2.14939542e-01  \n",
      " 180   | 8.30855279e-02 |  5.30496068e-02  |  3.00359211e-02  |  1.85198427e-01  \n",
      " 190   | 6.81878116e-02 |  3.78830435e-02  |  3.03047681e-02  |  1.58723828e-01  \n",
      " 200   | 5.73038618e-02 |  2.69052377e-02  |  3.03986241e-02  |  1.35743349e-01  \n",
      " 210   | 4.94217133e-02 |  1.90684535e-02  |  3.03532597e-02  |  1.16216661e-01  \n",
      " 220   | 4.37327070e-02 |  1.35333594e-02  |  3.01993475e-02  |  9.99251263e-02  \n",
      " 230   | 3.96164901e-02 |  9.65347115e-03  |  2.99630190e-02  |  8.65445893e-02  \n",
      " 240   | 3.66124932e-02 |  6.94620410e-03  |  2.96662891e-02  |  7.56995823e-02  \n",
      " 250   | 3.43876586e-02 |  5.06023164e-03  |  2.93274270e-02  |  6.70016442e-02  \n",
      " 260   | 3.27061449e-02 |  3.74482728e-03  |  2.89613176e-02  |  6.00758849e-02  \n",
      " 270   | 3.14036624e-02 |  2.82382555e-03  |  2.85798368e-02  |  5.45790955e-02  \n",
      " 280   | 3.03671394e-02 |  2.17489680e-03  |  2.81922427e-02  |  5.02110936e-02  \n",
      " 290   | 2.95193631e-02 |  1.71379226e-03  |  2.78055708e-02  |  4.67199906e-02  \n",
      " 300   | 2.88077874e-02 |  1.38277394e-03  |  2.74250135e-02  |  4.39021098e-02  \n",
      " 310   | 2.81966065e-02 |  1.14234266e-03  |  2.70542638e-02  |  4.15978549e-02  \n",
      " 320   | 2.76612640e-02 |  9.65446825e-04  |  2.66958171e-02  |  3.96852241e-02  \n",
      " 330   | 2.71847196e-02 |  8.33492605e-04  |  2.63512270e-02  |  3.80725675e-02  \n",
      " 340   | 2.67549468e-02 |  7.33626579e-04  |  2.60213202e-02  |  3.66917325e-02  \n",
      " 350   | 2.63632734e-02 |  6.56898882e-04  |  2.57063745e-02  |  3.54922088e-02  \n",
      " 360   | 2.60032913e-02 |  5.97026028e-04  |  2.54062653e-02  |  3.44364626e-02  \n",
      " 370   | 2.56701409e-02 |  5.49557785e-04  |  2.51205831e-02  |  3.34963936e-02  \n",
      " 380   | 2.53600430e-02 |  5.11314472e-04  |  2.48487285e-02  |  3.26507316e-02  \n",
      " 390   | 2.50699895e-02 |  4.80004724e-04  |  2.45899847e-02  |  3.18831638e-02  \n",
      " 400   | 2.47975382e-02 |  4.53963819e-04  |  2.43435743e-02  |  3.11810012e-02  \n",
      " 410   | 2.45406729e-02 |  4.31972886e-04  |  2.41087001e-02  |  3.05342317e-02  \n",
      " 420   | 2.42977075e-02 |  4.13132778e-04  |  2.38845747e-02  |  2.99348468e-02  \n",
      " 430   | 2.40672165e-02 |  3.96775229e-04  |  2.36704413e-02  |  2.93763566e-02  \n",
      " 440   | 2.38479853e-02 |  3.82399723e-04  |  2.34655856e-02  |  2.88534394e-02  \n",
      " 450   | 2.36389721e-02 |  3.69628280e-04  |  2.32693438e-02  |  2.83616831e-02  \n",
      " 460   | 2.34392784e-02 |  3.58172869e-04  |  2.30811056e-02  |  2.78973938e-02  \n",
      " 470   | 2.32481260e-02 |  3.47811802e-04  |  2.29003142e-02  |  2.74574507e-02  \n",
      " 480   | 2.30648377e-02 |  3.38372575e-04  |  2.27264651e-02  |  2.70391955e-02  \n",
      " 490   | 2.28888224e-02 |  3.29719352e-04  |  2.25591031e-02  |  2.66403472e-02  \n",
      " 500   | 2.27195621e-02 |  3.21743814e-04  |  2.23978183e-02  |  2.62589360e-02  \n",
      " 510   | 2.25566010e-02 |  3.14358453e-04  |  2.22422425e-02  |  2.58932499e-02  \n",
      " 520   | 2.23995368e-02 |  3.07491645e-04  |  2.20920452e-02  |  2.55417942e-02  \n",
      " 530   | 2.22480130e-02 |  3.01084014e-04  |  2.19469289e-02  |  2.52032573e-02  \n",
      " 540   | 2.21017123e-02 |  2.95085741e-04  |  2.18066265e-02  |  2.48764844e-02  \n",
      " 550   | 2.19603514e-02 |  2.89454553e-04  |  2.16708968e-02  |  2.45604549e-02  \n",
      " 560   | 2.18236761e-02 |  2.84154223e-04  |  2.15395219e-02  |  2.42542650e-02  \n",
      " 570   | 2.16914577e-02 |  2.79153425e-04  |  2.14123043e-02  |  2.39571121e-02  \n",
      " 580   | 2.15634890e-02 |  2.74424860e-04  |  2.12890641e-02  |  2.36682822e-02  \n",
      " 590   | 2.14395820e-02 |  2.69944583e-04  |  2.11696374e-02  |  2.33871399e-02  \n",
      " 600   | 2.13195650e-02 |  2.65691468e-04  |  2.10538735e-02  |  2.31131183e-02  \n",
      " 610   | 2.12032808e-02 |  2.61646788e-04  |  2.09416340e-02  |  2.28457121e-02  \n",
      " 620   | 2.10905847e-02 |  2.57793875e-04  |  2.08327908e-02  |  2.25844700e-02  \n",
      " 630   | 2.09813427e-02 |  2.54117835e-04  |  2.07272249e-02  |  2.23289893e-02  \n",
      " 640   | 2.08754307e-02 |  2.50605325e-04  |  2.06248253e-02  |  2.20789105e-02  \n",
      " 650   | 2.07727326e-02 |  2.47244354e-04  |  2.05254883e-02  |  2.18339123e-02  \n",
      " 660   | 2.06731401e-02 |  2.44024120e-04  |  2.04291160e-02  |  2.15937082e-02  \n",
      " 670   | 2.05765511e-02 |  2.40934872e-04  |  2.03356162e-02  |  2.13580422e-02  \n",
      " 680   | 2.04828693e-02 |  2.37967788e-04  |  2.02449015e-02  |  2.11266858e-02  \n",
      " 690   | 2.03920035e-02 |  2.35114869e-04  |  2.01568886e-02  |  2.08994347e-02  \n",
      " 700   | 2.03038669e-02 |  2.32368850e-04  |  2.00714980e-02  |  2.06761067e-02  \n",
      " 710   | 2.02183768e-02 |  2.29723123e-04  |  1.99886537e-02  |  2.04565388e-02  \n",
      " 720   | 2.01354541e-02 |  2.27171661e-04  |  1.99082824e-02  |  2.02405851e-02  \n",
      " 730   | 2.00550227e-02 |  2.24708961e-04  |  1.98303137e-02  |  2.00281150e-02  \n",
      " 740   | 1.99770095e-02 |  2.22329991e-04  |  1.97546795e-02  |  1.98190113e-02  \n",
      " 750   | 1.99013440e-02 |  2.20030136e-04  |  1.96813139e-02  |  1.96131687e-02  \n",
      " 760   | 1.98279580e-02 |  2.17805162e-04  |  1.96101528e-02  |  1.94104922e-02  \n",
      " 770   | 1.97567854e-02 |  2.15651176e-04  |  1.95411343e-02  |  1.92108961e-02  \n",
      " 780   | 1.96877622e-02 |  2.13564589e-04  |  1.94741976e-02  |  1.90143024e-02  \n",
      " 790   | 1.96208260e-02 |  2.11542092e-04  |  1.94092840e-02  |  1.88206403e-02  \n",
      " 800   | 1.95559164e-02 |  2.09580627e-04  |  1.93463357e-02  |  1.86298447e-02  \n",
      " 810   | 1.94929741e-02 |  2.07677359e-04  |  1.92852968e-02  |  1.84418560e-02  \n",
      " 820   | 1.94319418e-02 |  2.05829663e-04  |  1.92261122e-02  |  1.82566188e-02  \n",
      " 830   | 1.93727634e-02 |  2.04035097e-04  |  1.91687283e-02  |  1.80740816e-02  \n",
      " 840   | 1.93153839e-02 |  2.02291392e-04  |  1.91130926e-02  |  1.78941962e-02  \n",
      " 850   | 1.92597501e-02 |  2.00596431e-04  |  1.90591537e-02  |  1.77169171e-02  \n",
      " 860   | 1.92058096e-02 |  1.98948238e-04  |  1.90068614e-02  |  1.75422012e-02  \n",
      " 870   | 1.91535115e-02 |  1.97344965e-04  |  1.89561666e-02  |  1.73700072e-02  \n",
      " 880   | 1.91028060e-02 |  1.95784882e-04  |  1.89070211e-02  |  1.72002957e-02  \n",
      " 890   | 1.90536444e-02 |  1.94266367e-04  |  1.88593780e-02  |  1.70330286e-02  \n",
      " 900   | 1.90059792e-02 |  1.92787894e-04  |  1.88131913e-02  |  1.68681687e-02  \n",
      " 910   | 1.89597641e-02 |  1.91348029e-04  |  1.87684160e-02  |  1.67056800e-02  \n",
      " 920   | 1.89149537e-02 |  1.89945420e-04  |  1.87250083e-02  |  1.65455273e-02  \n",
      " 930   | 1.88715041e-02 |  1.88578792e-04  |  1.86829253e-02  |  1.63876760e-02  \n",
      " 940   | 1.88293721e-02 |  1.87246939e-04  |  1.86421251e-02  |  1.62320919e-02  \n",
      " 950   | 1.87885157e-02 |  1.85948719e-04  |  1.86025670e-02  |  1.60787415e-02  \n",
      " 960   | 1.87488942e-02 |  1.84683051e-04  |  1.85642112e-02  |  1.59275917e-02  \n",
      " 970   | 1.87104677e-02 |  1.83448909e-04  |  1.85270188e-02  |  1.57786095e-02  \n"
     ]
    },
    {
     "name": "stdout",
     "output_type": "stream",
     "text": [
      " 980   | 1.86731975e-02 |  1.82245316e-04  |  1.84909522e-02  |  1.56317624e-02  \n",
      " 990   | 1.86370459e-02 |  1.81071345e-04  |  1.84559745e-02  |  1.54870183e-02  \n",
      " 999   | 1.86054355e-02 |  1.80039364e-04  |  1.84253961e-02  |  1.53585201e-02  \n"
     ]
    }
   ],
   "source": [
    "costs = [\n",
    "    TargetStateInfidelity(target_state),\n",
    "    ControlVariation( cost_multiplier=0.1, order=1),\n",
    "]\n",
    "def impose_bc(controls):\n",
    "    controls[0][0]=0\n",
    "    controls[0][-1]=0\n",
    "    return controls\n",
    "result = grape_schroedinger_discrete(\n",
    "    H0, h_controls, total_time_steps,\n",
    "    costs, total_time,\n",
    "    initial_state, impose_control_conditions=impose_bc,\n",
    "    initial_controls=initial_pulse1,)"
   ]
  },
  {
   "cell_type": "code",
   "execution_count": 26,
   "metadata": {},
   "outputs": [],
   "source": [
    "optimized_pulse2, infidelity2 = result.best_controls, result.best_error"
   ]
  },
  {
   "cell_type": "code",
   "execution_count": 27,
   "metadata": {},
   "outputs": [
    {
     "data": {
      "image/png": "[encoded data removed]",
      "text/plain": [
       "<Figure size 432x288 with 1 Axes>"
      ]
     },
     "metadata": {
      "needs_background": "light"
     },
     "output_type": "display_data"
    }
   ],
   "source": [
    "plot_pulses(times, initial_pulse2[0], optimized_pulse2[0])"
   ]
  },
  {
   "cell_type": "markdown",
   "metadata": {},
   "source": [
    "### Control Bandwidth\n",
    "\n",
    "It can also be helpful to consider the frequency representation of our pulse. This time we will smooth the kinks by manipulating the frequencies of the puslse rather than the aplitudes"
   ]
  },
  {
   "cell_type": "code",
   "execution_count": 28,
   "metadata": {},
   "outputs": [],
   "source": [
    "def plot_fft(pulse, n):\n",
    "    # calculate the list of FFT amplitudes\n",
    "    fourier = np.abs(rfft(pulse))\n",
    "    # create a list of frequency bins\n",
    "    freq = rfftfreq(total_time_steps, total_time / total_time_steps)\n",
    "\n",
    "    plt.stem(freq, fourier, markerfmt=\" \")\n",
    "    plt.ylabel(\"FFT Amplitude\")\n",
    "    plt.xlabel(\"frequency (1/ns)\")\n",
    "\n",
    "    # label the n most populated frequencies\n",
    "    max_index = np.argpartition(abs(fourier), -n)[-n:]\n",
    "    for index in max_index:\n",
    "        plt.annotate(\"{}\".format(freq[index]), xy=(freq[index], fourier[index]))"
   ]
  },
  {
   "cell_type": "code",
   "execution_count": 51,
   "metadata": {
    "scrolled": false
   },
   "outputs": [
    {
     "data": {
      "image/png": "[encoded data removed]",
      "text/plain": [
       "<Figure size 432x288 with 1 Axes>"
      ]
     },
     "metadata": {
      "needs_background": "light"
     },
     "output_type": "display_data"
    }
   ],
   "source": [
    "plot_fft(optimized_pulse3[0], 3)"
   ]
  },
  {
   "cell_type": "markdown",
   "metadata": {},
   "source": [
    "To target the high frequency \"kinks\" we will add the ControlBandwidthMax cost contribution which penalizes frequencies above a specified cutoff frequency, \"max_bandwidths\"."
   ]
  },
  {
   "cell_type": "code",
   "execution_count": 58,
   "metadata": {},
   "outputs": [],
   "source": [
    "from qoc.standard import ControlBandwidthMax"
   ]
  },
  {
   "cell_type": "markdown",
   "metadata": {},
   "source": [
    " $$\\large C = 1-\\mathcal{F} + \\alpha C_{3}(\\omega_{max})$$\n"
   ]
  },
  {
   "cell_type": "markdown",
   "metadata": {},
   "source": [
    "To remove the high frequency components, set the cuttoff frequency just above the qubit frequency of 0.5 1/ns.\n",
    "Here, we first filter high frequency."
   ]
  },
  {
   "cell_type": "code",
   "execution_count": null,
   "metadata": {},
   "outputs": [],
   "source": [
    "costs = [\n",
    "    TargetStateInfidelity(target_state),\n",
    "    ControlBandwidthMax(\n",
    "        dt = total_time/total_time_steps,\n",
    "        max_bandwidths=np.array([[0,0.6]]),\n",
    "        cost_multiplier=0.001,\n",
    "    ),\n",
    "]\n",
    "def impose_bc(controls):\n",
    "    controls[0][0]=0\n",
    "    controls[0][-1]=0\n",
    "    return controls\n",
    "result = grape_schroedinger_discrete(\n",
    "    H0, h_controls, total_time_steps,\n",
    "    costs, total_time,\n",
    "    initial_state, impose_control_conditions=impose_bc, iteration_count = 1500,\n",
    "    initial_controls=initial_pulse2,)"
   ]
  },
  {
   "cell_type": "markdown",
   "metadata": {},
   "source": [
    "Then, we filter the low-frenquency components"
   ]
  },
  {
   "cell_type": "code",
   "execution_count": 76,
   "metadata": {
    "scrolled": true
   },
   "outputs": [
    {
     "name": "stdout",
     "output_type": "stream",
     "text": [
      "iter   |   total error  |       cost0      |       cost1      |   grads_l2  \n",
      "==================================================================================\n",
      "  0    | 1.11360850e-01 |  1.77590559e-03  |  1.09584945e-01  |  2.98640109e-01  \n",
      "  10   | 1.11222746e-01 |  1.66500563e-03  |  1.09557740e-01  |  2.97962022e-01  \n",
      "  20   | 1.09929409e-01 |  1.67807672e-03  |  1.08251332e-01  |  2.97749393e-01  \n",
      "  30   | 1.08614680e-01 |  1.79049433e-03  |  1.06824186e-01  |  2.97841220e-01  \n",
      "  40   | 1.07456770e-01 |  1.92280732e-03  |  1.05533963e-01  |  2.97962778e-01  \n",
      "  50   | 1.06389431e-01 |  2.01971352e-03  |  1.04369717e-01  |  2.98100600e-01  \n",
      "  60   | 1.05404779e-01 |  2.06904446e-03  |  1.03335735e-01  |  2.98224222e-01  \n",
      "  70   | 1.04406040e-01 |  2.11978463e-03  |  1.02286256e-01  |  2.98071833e-01  \n",
      "  80   | 1.03409436e-01 |  2.19452117e-03  |  1.01214915e-01  |  2.98253019e-01  \n",
      "  90   | 1.02480116e-01 |  2.23503852e-03  |  1.00245078e-01  |  2.98207588e-01  \n",
      " 100   | 1.01476207e-01 |  2.26187953e-03  |  9.92143272e-02  |  2.98139888e-01  \n",
      " 110   | 1.00493773e-01 |  2.30155198e-03  |  9.81922212e-02  |  2.98196439e-01  \n",
      " 120   | 9.94880019e-02 |  2.34004404e-03  |  9.71479578e-02  |  2.98144923e-01  \n",
      " 130   | 9.85695945e-02 |  2.36669117e-03  |  9.62029033e-02  |  2.98135365e-01  \n",
      " 140   | 9.76499842e-02 |  2.39270161e-03  |  9.52572826e-02  |  2.98182358e-01  \n",
      " 150   | 9.67063395e-02 |  2.42206849e-03  |  9.42842710e-02  |  2.98220107e-01  \n",
      " 160   | 9.63253479e-02 |  2.33434371e-03  |  9.39910042e-02  |  3.00612845e-01  \n",
      " 170   | 9.59674269e-02 |  2.06217059e-03  |  9.39052563e-02  |  3.00429643e-01  \n",
      " 180   | 9.56780866e-02 |  1.83106797e-03  |  9.38470186e-02  |  2.98403459e-01  \n",
      " 190   | 9.54713678e-02 |  1.69112053e-03  |  9.37802473e-02  |  2.98980129e-01  \n",
      " 200   | 9.52555436e-02 |  1.56514722e-03  |  9.36903964e-02  |  2.98600186e-01  \n",
      " 210   | 9.51524054e-02 |  1.46318160e-03  |  9.36892238e-02  |  2.99859878e-01  \n",
      " 220   | 9.50214112e-02 |  1.37612394e-03  |  9.36452872e-02  |  3.00036889e-01  \n",
      " 230   | 9.48937655e-02 |  1.29875431e-03  |  9.35950112e-02  |  3.00124542e-01  \n",
      " 240   | 9.47953461e-02 |  1.23656915e-03  |  9.35587769e-02  |  3.00126924e-01  \n",
      " 250   | 9.47568657e-02 |  1.18120820e-03  |  9.35756575e-02  |  3.00087476e-01  \n",
      " 260   | 9.47221857e-02 |  1.12833747e-03  |  9.35938482e-02  |  3.00046889e-01  \n",
      " 270   | 9.46551079e-02 |  1.08887176e-03  |  9.35662362e-02  |  3.00050704e-01  \n",
      " 280   | 9.45894823e-02 |  1.05431249e-03  |  9.35351698e-02  |  3.00026259e-01  \n",
      " 290   | 9.45345897e-02 |  1.02502667e-03  |  9.35095631e-02  |  3.00039711e-01  \n",
      " 300   | 9.45127080e-02 |  9.97053749e-04  |  9.35156542e-02  |  2.99917215e-01  \n",
      " 310   | 9.44629891e-02 |  9.81451189e-04  |  9.34815379e-02  |  3.00001480e-01  \n",
      " 320   | 9.44592888e-02 |  9.64742403e-04  |  9.34945464e-02  |  2.99993898e-01  \n",
      " 330   | 9.44452861e-02 |  9.51254975e-04  |  9.34940311e-02  |  2.99999019e-01  \n",
      " 340   | 9.44205872e-02 |  9.45096831e-04  |  9.34754904e-02  |  2.99992133e-01  \n",
      " 350   | 9.44150438e-02 |  9.41121748e-04  |  9.34739220e-02  |  2.99999301e-01  \n",
      " 360   | 9.44236132e-02 |  9.36010993e-04  |  9.34876022e-02  |  3.00006539e-01  \n",
      " 370   | 9.44048373e-02 |  9.30548951e-04  |  9.34742883e-02  |  3.00003640e-01  \n",
      " 380   | 9.44066858e-02 |  9.16785375e-04  |  9.34899005e-02  |  2.99995524e-01  \n",
      " 390   | 9.44028649e-02 |  9.05632360e-04  |  9.34972325e-02  |  2.99982942e-01  \n",
      " 400   | 9.44212845e-02 |  9.00274887e-04  |  9.35210096e-02  |  2.99987321e-01  \n",
      " 410   | 9.43539789e-02 |  8.99965878e-04  |  9.34540130e-02  |  2.99984797e-01  \n",
      " 420   | 9.43624260e-02 |  9.06673325e-04  |  9.34557527e-02  |  2.99997507e-01  \n",
      " 430   | 9.43792112e-02 |  9.07954906e-04  |  9.34712563e-02  |  2.99999885e-01  \n",
      " 440   | 9.43565937e-02 |  9.09148979e-04  |  9.34474447e-02  |  3.00004365e-01  \n",
      " 450   | 9.43315674e-02 |  9.08611783e-04  |  9.34229556e-02  |  3.00004872e-01  \n",
      " 460   | 9.43399473e-02 |  9.06429501e-04  |  9.34335178e-02  |  3.00001377e-01  \n",
      " 470   | 9.43783069e-02 |  9.08660887e-04  |  9.34696460e-02  |  3.00006389e-01  \n",
      " 480   | 9.43539137e-02 |  9.12555903e-04  |  9.34413578e-02  |  3.00011027e-01  \n",
      " 490   | 9.43531832e-02 |  9.14005139e-04  |  9.34391781e-02  |  3.00012521e-01  \n",
      " 499   | 9.43474876e-02 |  9.19143428e-04  |  9.34283442e-02  |  3.00020949e-01  \n"
     ]
    }
   ],
   "source": [
    "costs = [\n",
    "    TargetStateInfidelity(target_state),\n",
    "    ControlBandwidthMax(\n",
    "        dt = total_time/total_time_steps,\n",
    "        max_bandwidths=np.array([[0.4,0.6]]),\n",
    "        cost_multiplier=0.001,\n",
    "    ),\n",
    "]\n",
    "def impose_bc(controls):\n",
    "    controls[0][0]=0\n",
    "    controls[0][-1]=0\n",
    "    return controls\n",
    "result = grape_schroedinger_discrete(\n",
    "    H0, h_controls, total_time_steps,\n",
    "    costs, total_time,\n",
    "    initial_state, impose_control_conditions=impose_bc, iteration_count = 500,\n",
    "    initial_controls=result.best_controls,)"
   ]
  },
  {
   "cell_type": "code",
   "execution_count": null,
   "metadata": {},
   "outputs": [],
   "source": []
  },
  {
   "cell_type": "code",
   "execution_count": 77,
   "metadata": {},
   "outputs": [
    {
     "name": "stdout",
     "output_type": "stream",
     "text": [
      "0.09431032360332457\n"
     ]
    }
   ],
   "source": [
    "optimized_pulse3, infidelity3 = result.best_controls, result.best_error\n",
    "print(infidelity3)"
   ]
  },
  {
   "cell_type": "code",
   "execution_count": 78,
   "metadata": {},
   "outputs": [
    {
     "data": {
      "image/png": "[encoded data removed]",
      "text/plain": [
       "<Figure size 432x288 with 1 Axes>"
      ]
     },
     "metadata": {
      "needs_background": "light"
     },
     "output_type": "display_data"
    }
   ],
   "source": [
    "plot_pulses(times, initial_pulse2[0], optimized_pulse3[0])"
   ]
  },
  {
   "cell_type": "markdown",
   "metadata": {},
   "source": [
    "Pulse is much smoother. If we want to furthermore reduce the bandwidth, we need use some tricks. The example of tricks is on the way."
   ]
  },
  {
   "cell_type": "code",
   "execution_count": null,
   "metadata": {},
   "outputs": [],
   "source": []
  }
 ],
 "metadata": {
  "kernelspec": {
   "display_name": "Python 3 (ipykernel)",
   "language": "python",
   "name": "python3"
  },
  "language_info": {
   "codemirror_mode": {
    "name": "ipython",
    "version": 3
   },
   "file_extension": ".py",
   "mimetype": "text/x-python",
   "name": "python",
   "nbconvert_exporter": "python",
   "pygments_lexer": "ipython3",
   "version": "3.8.3"
  }
 },
 "nbformat": 4,
 "nbformat_minor": 4
}
